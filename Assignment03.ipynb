{
 "cells": [
  {
   "cell_type": "code",
   "execution_count": 1,
   "id": "d40c13eb",
   "metadata": {},
   "outputs": [],
   "source": [
    "def remove_quotation(x):\n",
    "    return([xx.replace('\"', '') for xx in x])\n",
    "def save_package_count(time, rdd):\n",
    "    try:\n",
    "        df = spark.createDataFrame(rdd.map(\\\n",
    "        lambda row: Row(time=time, package=row[0], count=row[1])))\n",
    "        df.write.format(\"org.apache.spark.sql.cassandra\")\\\n",
    "        .options(table=\"package_count\", keyspace=\"streaming\")\\\n",
    "        .save(mode=\"append\")\n",
    "    except:\n",
    "        pass\n",
    "def save_top_package(time, rdd):\n",
    "    try:\n",
    "        df = spark.createDataFrame(rdd.map(\\\n",
    "        lambda row: Row(time=time, package=row[0], count=row[1])))\n",
    "        df = df.limit(1)\n",
    "        df.write.format(\"org.apache.spark.sql.cassandra\")\\\n",
    "        .options(table=\"top_package\", keyspace=\"streaming\")\\\n",
    "        .save(mode=\"append\")\n",
    "    except:\n",
    "        pass\n",
    "def save_country(time, rdd):\n",
    "    try:\n",
    "        df = spark.createDataFrame(rdd.map(\\\n",
    "        lambda row: Row(time=time, country=row[0], count=row[1])))\n",
    "        df = df.limit(5)\n",
    "        df.write.format(\"org.apache.spark.sql.cassandra\")\\\n",
    "        .options(table=\"top_country\", keyspace=\"streaming\")\\\n",
    "        .save(mode=\"append\")\n",
    "    except:\n",
    "        pass\n",
    "def save_ggplot2_count(time, rdd):\n",
    "    try:\n",
    "        df = spark.createDataFrame(rdd.map(\\\n",
    "        lambda row: Row(time=time, ggplot2=row[0], count=row[1])))\n",
    "        df.write.format(\"org.apache.spark.sql.cassandra\")\\\n",
    "        .options(table=\"ggplot2_count\", keyspace=\"streaming\")\\\n",
    "        .save(mode=\"append\")\n",
    "    except:\n",
    "        pass"
   ]
  },
  {
   "cell_type": "code",
   "execution_count": 2,
   "id": "3bcdbfdc",
   "metadata": {},
   "outputs": [],
   "source": [
    "from pyspark.streaming import StreamingContext\n",
    "from pyspark.sql import Row\n",
    "import time\n",
    "ssc = StreamingContext(sc, 3)\n",
    "lines = ssc.textFileStream(\"file:///home/jawad/streaming/\")\n",
    "downloads_RDD = lines.map(lambda x: x.split(','))\n",
    "\n",
    "downloads_RDD = downloads_RDD.map(remove_quotation)\n",
    "# 1 - Package Count\n",
    "package_RDD = downloads_RDD.map(lambda x: (x[6], 1))\n",
    "package_RDD = package_RDD.reduceByKey(lambda a,b: a+b)\n",
    "\n",
    "# 2 - highest downloaded package\n",
    "package_RDD_reduced = package_RDD.transform(lambda package_RDD: package_RDD.sortBy(lambda a: a[1], ascending=False))\n",
    "\n",
    "# 3 - Top 5 countries with number of downlaods\n",
    "country_RDD = downloads_RDD.map(lambda x: (x[8], 1))\n",
    "country_RDD = country_RDD.reduceByKey(lambda a,b: a+b)\n",
    "country_RDD = country_RDD.transform(lambda downloads_RDD_reduced: downloads_RDD_reduced.sortBy(lambda x: x[1], \n",
    "                                                                                               ascending=False))\n",
    "\n",
    "# 4 - Number of downloads of ggplot2\n",
    "ggplot2 = downloads_RDD.filter(lambda x: x[6]==\"ggplot2\")\n",
    "ggplot2_mapped = ggplot2.map(lambda x: (x[6], 1))\n",
    "ggplot2_reduced = ggplot2_mapped.reduceByKey(lambda a,b: a+b)\n",
    "\n",
    "\n",
    "\n",
    "package_RDD.foreachRDD(save_package_count)\n",
    "package_RDD_reduced.foreachRDD(save_top_package)\n",
    "country_RDD.foreachRDD(save_country)\n",
    "ggplot2_reduced.foreachRDD(save_ggplot2_count)\n",
    "#package_RDD.pprint()\n",
    "#package_RDD_reduced.pprint(1)\n",
    "#country_RDD.pprint(5)\n",
    "#ggplot2_reduced.pprint()\n",
    "\n"
   ]
  },
  {
   "cell_type": "code",
   "execution_count": 3,
   "id": "0033383f",
   "metadata": {},
   "outputs": [
    {
     "name": "stderr",
     "output_type": "stream",
     "text": [
      "                                                                                \r"
     ]
    }
   ],
   "source": [
    "ssc.start()\n",
    "time.sleep(180)\n",
    "ssc.stop(stopSparkContext=False)"
   ]
  },
  {
   "cell_type": "code",
   "execution_count": null,
   "id": "9424801b",
   "metadata": {},
   "outputs": [],
   "source": []
  }
 ],
 "metadata": {
  "kernelspec": {
   "display_name": "Python 3 (ipykernel)",
   "language": "python",
   "name": "python3"
  },
  "language_info": {
   "codemirror_mode": {
    "name": "ipython",
    "version": 3
   },
   "file_extension": ".py",
   "mimetype": "text/x-python",
   "name": "python",
   "nbconvert_exporter": "python",
   "pygments_lexer": "ipython3",
   "version": "3.8.10"
  }
 },
 "nbformat": 4,
 "nbformat_minor": 5
}
