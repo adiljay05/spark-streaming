{
 "cells": [
  {
   "cell_type": "code",
   "execution_count": null,
   "id": "2a1cd7a5",
   "metadata": {},
   "outputs": [],
   "source": [
    "import time\n",
    "csvfile = open('./assigment1/2021-10-31.csv', 'r').readlines()\n",
    "# removing header\n",
    "csvfile.pop(0)\n",
    "filename = 1\n",
    "counter = 0\n",
    "for i in range(0,len(csvfile)):\n",
    "    # 120/3 = 40, hence I'm stopping at 40 files\n",
    "    if filename>40:\n",
    "        break\n",
    "    if i % 1000 == 0:\n",
    "        open(\"./streaming/logs\"+str(filename) + '.csv', 'w+').writelines(csvfile[counter:counter+1000])\n",
    "        filename += 1\n",
    "        counter+= 1000;\n",
    "        time.sleep(3)"
   ]
  }
 ],
 "metadata": {
  "kernelspec": {
   "display_name": "Python 3 (ipykernel)",
   "language": "python",
   "name": "python3"
  },
  "language_info": {
   "codemirror_mode": {
    "name": "ipython",
    "version": 3
   },
   "file_extension": ".py",
   "mimetype": "text/x-python",
   "name": "python",
   "nbconvert_exporter": "python",
   "pygments_lexer": "ipython3",
   "version": "3.8.10"
  }
 },
 "nbformat": 4,
 "nbformat_minor": 5
}
